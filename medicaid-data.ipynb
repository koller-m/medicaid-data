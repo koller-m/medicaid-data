{
 "cells": [
  {
   "cell_type": "code",
   "execution_count": 1,
   "id": "c1fe439e-9011-4227-8631-e4502f4931f0",
   "metadata": {},
   "outputs": [],
   "source": [
    "import pandas as pd"
   ]
  },
  {
   "cell_type": "code",
   "execution_count": 2,
   "id": "e785ca67-a678-4073-9c00-1666bd3d3661",
   "metadata": {},
   "outputs": [],
   "source": [
    "# Load the CSV file\n",
    "df = pd.read_csv('share-of-medicaid-enrollees-in-managed-care.2022.csv')"
   ]
  },
  {
   "cell_type": "code",
   "execution_count": 3,
   "id": "c56c7deb-1c29-4117-ab55-24ba64e4b011",
   "metadata": {},
   "outputs": [
    {
     "data": {
      "text/html": [
       "<div>\n",
       "<style scoped>\n",
       "    .dataframe tbody tr th:only-of-type {\n",
       "        vertical-align: middle;\n",
       "    }\n",
       "\n",
       "    .dataframe tbody tr th {\n",
       "        vertical-align: top;\n",
       "    }\n",
       "\n",
       "    .dataframe thead th {\n",
       "        text-align: right;\n",
       "    }\n",
       "</style>\n",
       "<table border=\"1\" class=\"dataframe\">\n",
       "  <thead>\n",
       "    <tr style=\"text-align: right;\">\n",
       "      <th></th>\n",
       "      <th>State</th>\n",
       "      <th>Notes</th>\n",
       "      <th>Total Medicaid Enrollees</th>\n",
       "      <th>Individuals Enrolled (Any)</th>\n",
       "      <th>Percent of all Medicaid enrollees (Any)</th>\n",
       "      <th>Individuals Enrolled (Comprehensive)</th>\n",
       "      <th>Percent of all Medicaid enrollees (Comprehensive)</th>\n",
       "      <th>Year</th>\n",
       "    </tr>\n",
       "  </thead>\n",
       "  <tbody>\n",
       "    <tr>\n",
       "      <th>0</th>\n",
       "      <td>TOTALS</td>\n",
       "      <td>NaN</td>\n",
       "      <td>80,263,839</td>\n",
       "      <td>65,034,032</td>\n",
       "      <td>81.00%</td>\n",
       "      <td>54,547,048</td>\n",
       "      <td>68.00%</td>\n",
       "      <td>2016</td>\n",
       "    </tr>\n",
       "    <tr>\n",
       "      <th>1</th>\n",
       "      <td>Arkansas5</td>\n",
       "      <td>Arkansas is unable to report enrollment as of ...</td>\n",
       "      <td>1,026,621</td>\n",
       "      <td>512,041</td>\n",
       "      <td>49.90%</td>\n",
       "      <td>167</td>\n",
       "      <td>0.00%</td>\n",
       "      <td>2016</td>\n",
       "    </tr>\n",
       "    <tr>\n",
       "      <th>2</th>\n",
       "      <td>District of Columbia</td>\n",
       "      <td>NaN</td>\n",
       "      <td>251,791</td>\n",
       "      <td>180,942</td>\n",
       "      <td>71.90%</td>\n",
       "      <td>180,942</td>\n",
       "      <td>71.90%</td>\n",
       "      <td>2016</td>\n",
       "    </tr>\n",
       "    <tr>\n",
       "      <th>3</th>\n",
       "      <td>Wyoming</td>\n",
       "      <td>NaN</td>\n",
       "      <td>64,442</td>\n",
       "      <td>391</td>\n",
       "      <td>0.60%</td>\n",
       "      <td>112</td>\n",
       "      <td>0.20%</td>\n",
       "      <td>2016</td>\n",
       "    </tr>\n",
       "    <tr>\n",
       "      <th>4</th>\n",
       "      <td>Pennsylvania</td>\n",
       "      <td>NaN</td>\n",
       "      <td>2,753,618</td>\n",
       "      <td>2,521,421</td>\n",
       "      <td>91.60%</td>\n",
       "      <td>2,233,115</td>\n",
       "      <td>81.10%</td>\n",
       "      <td>2016</td>\n",
       "    </tr>\n",
       "    <tr>\n",
       "      <th>5</th>\n",
       "      <td>Massachusetts</td>\n",
       "      <td>NaN</td>\n",
       "      <td>1,889,306</td>\n",
       "      <td>1,268,120</td>\n",
       "      <td>67.10%</td>\n",
       "      <td>874,367</td>\n",
       "      <td>46.30%</td>\n",
       "      <td>2016</td>\n",
       "    </tr>\n",
       "    <tr>\n",
       "      <th>6</th>\n",
       "      <td>North Dakota</td>\n",
       "      <td>NaN</td>\n",
       "      <td>93,422</td>\n",
       "      <td>48,621</td>\n",
       "      <td>52.00%</td>\n",
       "      <td>21,347</td>\n",
       "      <td>22.90%</td>\n",
       "      <td>2016</td>\n",
       "    </tr>\n",
       "    <tr>\n",
       "      <th>7</th>\n",
       "      <td>Michigan</td>\n",
       "      <td>NaN</td>\n",
       "      <td>4,448,582</td>\n",
       "      <td>4,370,138</td>\n",
       "      <td>98.20%</td>\n",
       "      <td>2,220,029</td>\n",
       "      <td>49.90%</td>\n",
       "      <td>2016</td>\n",
       "    </tr>\n",
       "    <tr>\n",
       "      <th>8</th>\n",
       "      <td>Virginia</td>\n",
       "      <td>NaN</td>\n",
       "      <td>1,111,999</td>\n",
       "      <td>761,019</td>\n",
       "      <td>68.40%</td>\n",
       "      <td>761,019</td>\n",
       "      <td>68.40%</td>\n",
       "      <td>2016</td>\n",
       "    </tr>\n",
       "    <tr>\n",
       "      <th>9</th>\n",
       "      <td>Hawaii</td>\n",
       "      <td>NaN</td>\n",
       "      <td>358,302</td>\n",
       "      <td>354,289</td>\n",
       "      <td>98.90%</td>\n",
       "      <td>354,289</td>\n",
       "      <td>98.90%</td>\n",
       "      <td>2016</td>\n",
       "    </tr>\n",
       "  </tbody>\n",
       "</table>\n",
       "</div>"
      ],
      "text/plain": [
       "                  State                                              Notes  \\\n",
       "0                TOTALS                                                NaN   \n",
       "1             Arkansas5  Arkansas is unable to report enrollment as of ...   \n",
       "2  District of Columbia                                                NaN   \n",
       "3               Wyoming                                                NaN   \n",
       "4          Pennsylvania                                                NaN   \n",
       "5         Massachusetts                                                NaN   \n",
       "6          North Dakota                                                NaN   \n",
       "7              Michigan                                                NaN   \n",
       "8              Virginia                                                NaN   \n",
       "9                Hawaii                                                NaN   \n",
       "\n",
       "  Total Medicaid Enrollees Individuals Enrolled (Any)  \\\n",
       "0               80,263,839                 65,034,032   \n",
       "1                1,026,621                    512,041   \n",
       "2                  251,791                    180,942   \n",
       "3                   64,442                        391   \n",
       "4                2,753,618                  2,521,421   \n",
       "5                1,889,306                  1,268,120   \n",
       "6                   93,422                     48,621   \n",
       "7                4,448,582                  4,370,138   \n",
       "8                1,111,999                    761,019   \n",
       "9                  358,302                    354,289   \n",
       "\n",
       "  Percent of all Medicaid enrollees (Any)  \\\n",
       "0                                  81.00%   \n",
       "1                                  49.90%   \n",
       "2                                  71.90%   \n",
       "3                                   0.60%   \n",
       "4                                  91.60%   \n",
       "5                                  67.10%   \n",
       "6                                  52.00%   \n",
       "7                                  98.20%   \n",
       "8                                  68.40%   \n",
       "9                                  98.90%   \n",
       "\n",
       "  Individuals Enrolled (Comprehensive)  \\\n",
       "0                           54,547,048   \n",
       "1                                  167   \n",
       "2                              180,942   \n",
       "3                                  112   \n",
       "4                            2,233,115   \n",
       "5                              874,367   \n",
       "6                               21,347   \n",
       "7                            2,220,029   \n",
       "8                              761,019   \n",
       "9                              354,289   \n",
       "\n",
       "  Percent of all Medicaid enrollees (Comprehensive)  Year  \n",
       "0                                            68.00%  2016  \n",
       "1                                             0.00%  2016  \n",
       "2                                            71.90%  2016  \n",
       "3                                             0.20%  2016  \n",
       "4                                            81.10%  2016  \n",
       "5                                            46.30%  2016  \n",
       "6                                            22.90%  2016  \n",
       "7                                            49.90%  2016  \n",
       "8                                            68.40%  2016  \n",
       "9                                            98.90%  2016  "
      ]
     },
     "execution_count": 3,
     "metadata": {},
     "output_type": "execute_result"
    }
   ],
   "source": [
    "df.head(10)"
   ]
  },
  {
   "cell_type": "code",
   "execution_count": 4,
   "id": "26e2ec36-9a9b-4730-9190-112dc667ba42",
   "metadata": {},
   "outputs": [
    {
     "data": {
      "text/plain": [
       "Index(['State', 'Notes', 'Total Medicaid Enrollees',\n",
       "       'Individuals Enrolled (Any)', 'Percent of all Medicaid enrollees (Any)',\n",
       "       'Individuals Enrolled (Comprehensive)',\n",
       "       'Percent of all Medicaid enrollees (Comprehensive)', 'Year'],\n",
       "      dtype='object')"
      ]
     },
     "execution_count": 4,
     "metadata": {},
     "output_type": "execute_result"
    }
   ],
   "source": [
    "df.columns"
   ]
  },
  {
   "cell_type": "code",
   "execution_count": 5,
   "id": "1e01d10e-ea0f-4edc-8459-ea2c4840b768",
   "metadata": {},
   "outputs": [
    {
     "name": "stdout",
     "output_type": "stream",
     "text": [
      "<class 'pandas.core.frame.DataFrame'>\n",
      "RangeIndex: 399 entries, 0 to 398\n",
      "Data columns (total 8 columns):\n",
      " #   Column                                             Non-Null Count  Dtype \n",
      "---  ------                                             --------------  ----- \n",
      " 0   State                                              399 non-null    object\n",
      " 1   Notes                                              85 non-null     object\n",
      " 2   Total Medicaid Enrollees                           371 non-null    object\n",
      " 3   Individuals Enrolled (Any)                         371 non-null    object\n",
      " 4   Percent of all Medicaid enrollees (Any)            371 non-null    object\n",
      " 5   Individuals Enrolled (Comprehensive)               371 non-null    object\n",
      " 6   Percent of all Medicaid enrollees (Comprehensive)  371 non-null    object\n",
      " 7   Year                                               399 non-null    int64 \n",
      "dtypes: int64(1), object(7)\n",
      "memory usage: 25.1+ KB\n"
     ]
    }
   ],
   "source": [
    "df.info()"
   ]
  },
  {
   "cell_type": "code",
   "execution_count": 6,
   "id": "ae3aa832-0e4b-4a3b-8fd9-bfe27c55ecff",
   "metadata": {},
   "outputs": [],
   "source": [
    "clean_df = df[['State', 'Total Medicaid Enrollees', 'Year']].copy()"
   ]
  },
  {
   "cell_type": "code",
   "execution_count": 7,
   "id": "cf93f11d-401a-4285-9146-8311d88db79a",
   "metadata": {},
   "outputs": [],
   "source": [
    "clean_df['Total Medicaid Enrollees'] = pd.to_numeric(clean_df['Total Medicaid Enrollees'].str.replace(',', ''), errors='coerce')"
   ]
  },
  {
   "cell_type": "code",
   "execution_count": 8,
   "id": "4e4d0828-77af-4d46-8b3a-d956b6c140d4",
   "metadata": {},
   "outputs": [
    {
     "name": "stdout",
     "output_type": "stream",
     "text": [
      "State                        0\n",
      "Total Medicaid Enrollees    28\n",
      "Year                         0\n",
      "dtype: int64\n"
     ]
    }
   ],
   "source": [
    "missing_values = clean_df.isnull().sum()\n",
    "print(missing_values)"
   ]
  },
  {
   "cell_type": "code",
   "execution_count": 9,
   "id": "05be91c8-1f82-423a-8ecd-fabc48dc1ee4",
   "metadata": {},
   "outputs": [
    {
     "name": "stdout",
     "output_type": "stream",
     "text": [
      "States that appear more than once:\n",
      "State\n",
      "TOTALS                  7\n",
      "District of Columbia    7\n",
      "Pennsylvania            7\n",
      "North Dakota            7\n",
      "Massachusetts           7\n",
      "                       ..\n",
      "Oregon8                 2\n",
      "Vermont8                2\n",
      "Michigan7               2\n",
      "Connecticut5            2\n",
      "Kentucky                2\n",
      "Name: count, Length: 64, dtype: int64\n"
     ]
    }
   ],
   "source": [
    "state_counts = clean_df['State'].value_counts()\n",
    "print(\"States that appear more than once:\")\n",
    "print(state_counts[state_counts > 1])"
   ]
  },
  {
   "cell_type": "code",
   "execution_count": 10,
   "id": "26e46a58-657d-4a74-ad09-8f1626e112a9",
   "metadata": {},
   "outputs": [
    {
     "name": "stdout",
     "output_type": "stream",
     "text": [
      "\n",
      "Number of rows after keeping only the most recent entry per state: 71\n"
     ]
    }
   ],
   "source": [
    "latest_by_state = clean_df.sort_values('Year', ascending=False).drop_duplicates(subset=['State'], keep='first')\n",
    "print(f\"\\nNumber of rows after keeping only the most recent entry per state: {len(latest_by_state)}\")"
   ]
  },
  {
   "cell_type": "code",
   "execution_count": 11,
   "id": "a9cb0e6d-f2b8-4051-bdf5-f301618dee8b",
   "metadata": {},
   "outputs": [
    {
     "name": "stdout",
     "output_type": "stream",
     "text": [
      "                        State  Total Medicaid Enrollees  Year\n",
      "398                   Wyoming                   83379.0  2022\n",
      "397                 Wisconsin                 1593772.0  2022\n",
      "396             West Virginia                  660068.0  2022\n",
      "395                Washington                 2229539.0  2022\n",
      "394                  Virginia                 1978005.0  2022\n",
      "393            Virgin Islands                       NaN  2022\n",
      "392                   Vermont                  199989.0  2022\n",
      "391                      Utah                  477832.0  2022\n",
      "375                New Jersey                 2022155.0  2022\n",
      "374             New Hampshire                  256087.0  2022\n",
      "373                    Nevada                  923168.0  2022\n",
      "372                  Nebraska                  374783.0  2022\n",
      "371                   Montana                  289659.0  2022\n",
      "370                  Missouri                 1278851.0  2022\n",
      "369               Mississippi                  858687.0  2022\n",
      "368                 Minnesota                 1348563.0  2022\n",
      "367                  Michigan                 3092404.0  2022\n",
      "366             Massachusetts                 2091955.0  2022\n",
      "365                  Maryland                 1734624.0  2022\n",
      "364                     Maine                  393783.0  2022\n",
      "363                 Louisiana                 1985537.0  2022\n",
      "362                  Kentucky                 1651543.0  2022\n",
      "361                    Kansas                  525725.0  2022\n",
      "360                      Iowa                  803050.0  2022\n",
      "359                   Indiana                 2070992.0  2022\n",
      "358                  Illinois                 3726082.0  2022\n",
      "357                     Idaho                  424893.0  2022\n",
      "356                    Hawaii                  450268.0  2022\n",
      "355                      Guam                       NaN  2022\n",
      "354                   Georgia                 2734003.0  2022\n",
      "353                   Florida                 5399695.0  2022\n",
      "352      District of Columbia                  300381.0  2022\n",
      "351                  Delaware                  302869.0  2022\n",
      "350               Connecticut                 1140225.0  2022\n",
      "349                  Colorado                 1608310.0  2022\n",
      "348                California                15136020.0  2022\n",
      "347                  Arkansas                 1763975.0  2022\n",
      "346                   Arizona                 2412424.0  2022\n",
      "345            American Samoa                       NaN  2022\n",
      "344                    Alaska                  254283.0  2022\n",
      "343                   Alabama                 1287819.0  2022\n",
      "342                    TOTALS                98019715.0  2022\n",
      "384              Pennsylvania                 3534344.0  2022\n",
      "389                 Tennessee                 1817119.0  2022\n",
      "377                  New York                 7589766.0  2022\n",
      "382                  Oklahoma                 1273948.0  2022\n",
      "381                      Ohio                 3425876.0  2022\n",
      "380  Northern Mariana Islands                       NaN  2022\n",
      "376                New Mexico                  984008.0  2022\n",
      "378            North Carolina                 2804306.0  2022\n",
      "383                    Oregon                 1393623.0  2022\n",
      "387            South Carolina                 1550759.0  2022\n",
      "385               Puerto Rico                 1597058.0  2022\n",
      "379              North Dakota                  133631.0  2022\n",
      "388              South Dakota                  149096.0  2022\n",
      "390                     Texas                 5543480.0  2022\n",
      "386              Rhode Island                  357304.0  2022\n",
      "341                  Wyoming9                   73227.0  2021\n",
      "310               Michigan6,7                 2900801.0  2021\n",
      "305                 Kentucky                  1584976.0  2021\n",
      "326                   Oregon8                 1286095.0  2021\n",
      "287                   Alaska4                  242176.0  2021\n",
      "293              Connecticut5                 1106169.0  2021\n",
      "240                  Georgia6                 2288352.0  2020\n",
      "253                 Michigan7                 2573851.0  2020\n",
      "221                  Vermont8                  166114.0  2019\n",
      "183                  Georgia7                 1917560.0  2019\n",
      "179              Connecticut6                  837367.0  2019\n",
      "178                 Colorado5                 1231952.0  2019\n",
      "55                 Tennessee7                 1684268.0  2016\n",
      "1                   Arkansas5                 1026621.0  2016\n"
     ]
    }
   ],
   "source": [
    "with pd.option_context('display.max_rows', None):\n",
    "    print(latest_by_state)"
   ]
  },
  {
   "cell_type": "code",
   "execution_count": 12,
   "id": "98e481a7-1737-4dfd-a11d-4f24645a5833",
   "metadata": {},
   "outputs": [],
   "source": [
    "territories = [\n",
    "    \"Puerto Rico\", \"Guam\", \"Virgin Islands\", \"American Samoa\", \"Northern Mariana Islands\", \"TOTALS\"\n",
    "]"
   ]
  },
  {
   "cell_type": "code",
   "execution_count": 13,
   "id": "a62656c4-59bd-4643-b859-3607934020ce",
   "metadata": {},
   "outputs": [],
   "source": [
    "latest_by_state = latest_by_state[\n",
    "    (~latest_by_state['State'].isin(territories)) &\n",
    "    (~latest_by_state['State'].str.contains(r'\\d', regex=True))\n",
    "]"
   ]
  },
  {
   "cell_type": "code",
   "execution_count": 14,
   "id": "c8f1cd3a-2f1c-406c-86b0-0cc033708a0d",
   "metadata": {},
   "outputs": [
    {
     "name": "stdout",
     "output_type": "stream",
     "text": [
      "\n",
      "Number of rows after cleaning: 52\n",
      "                    State  Total Medicaid Enrollees  Year\n",
      "398               Wyoming                   83379.0  2022\n",
      "397             Wisconsin                 1593772.0  2022\n",
      "396         West Virginia                  660068.0  2022\n",
      "395            Washington                 2229539.0  2022\n",
      "394              Virginia                 1978005.0  2022\n",
      "392               Vermont                  199989.0  2022\n",
      "391                  Utah                  477832.0  2022\n",
      "375            New Jersey                 2022155.0  2022\n",
      "374         New Hampshire                  256087.0  2022\n",
      "373                Nevada                  923168.0  2022\n",
      "372              Nebraska                  374783.0  2022\n",
      "371               Montana                  289659.0  2022\n",
      "370              Missouri                 1278851.0  2022\n",
      "369           Mississippi                  858687.0  2022\n",
      "368             Minnesota                 1348563.0  2022\n",
      "367              Michigan                 3092404.0  2022\n",
      "366         Massachusetts                 2091955.0  2022\n",
      "365              Maryland                 1734624.0  2022\n",
      "364                 Maine                  393783.0  2022\n",
      "363             Louisiana                 1985537.0  2022\n",
      "362              Kentucky                 1651543.0  2022\n",
      "361                Kansas                  525725.0  2022\n",
      "360                  Iowa                  803050.0  2022\n",
      "359               Indiana                 2070992.0  2022\n",
      "358              Illinois                 3726082.0  2022\n",
      "357                 Idaho                  424893.0  2022\n",
      "356                Hawaii                  450268.0  2022\n",
      "354               Georgia                 2734003.0  2022\n",
      "353               Florida                 5399695.0  2022\n",
      "352  District of Columbia                  300381.0  2022\n",
      "351              Delaware                  302869.0  2022\n",
      "350           Connecticut                 1140225.0  2022\n",
      "349              Colorado                 1608310.0  2022\n",
      "348            California                15136020.0  2022\n",
      "347              Arkansas                 1763975.0  2022\n",
      "346               Arizona                 2412424.0  2022\n",
      "344                Alaska                  254283.0  2022\n",
      "343               Alabama                 1287819.0  2022\n",
      "384          Pennsylvania                 3534344.0  2022\n",
      "389             Tennessee                 1817119.0  2022\n",
      "377              New York                 7589766.0  2022\n",
      "382              Oklahoma                 1273948.0  2022\n",
      "381                  Ohio                 3425876.0  2022\n",
      "376            New Mexico                  984008.0  2022\n",
      "378        North Carolina                 2804306.0  2022\n",
      "383                Oregon                 1393623.0  2022\n",
      "387        South Carolina                 1550759.0  2022\n",
      "379          North Dakota                  133631.0  2022\n",
      "388          South Dakota                  149096.0  2022\n",
      "390                 Texas                 5543480.0  2022\n",
      "386          Rhode Island                  357304.0  2022\n",
      "305             Kentucky                  1584976.0  2021\n"
     ]
    }
   ],
   "source": [
    "print(f\"\\nNumber of rows after cleaning: {len(latest_by_state)}\")\n",
    "with pd.option_context('display.max_rows', None):\n",
    "    print(latest_by_state)"
   ]
  },
  {
   "cell_type": "code",
   "execution_count": 15,
   "id": "927e18c4-a42a-425e-9e97-039d2cb91f06",
   "metadata": {},
   "outputs": [],
   "source": [
    "clean_df = latest_by_state.copy()"
   ]
  },
  {
   "cell_type": "code",
   "execution_count": 19,
   "id": "b85623cf-089b-45c6-ad09-abd53f59e599",
   "metadata": {},
   "outputs": [],
   "source": [
    "ER_VISITS_PER_PERSON = 0.427  # 42.7 visits per 100 people\n",
    "COST_PER_ER_VISIT = 1700  # Cost per ER visit in USD"
   ]
  },
  {
   "cell_type": "code",
   "execution_count": 20,
   "id": "89f04cfd-f3f1-4d6c-a319-c92f1e6fde7d",
   "metadata": {},
   "outputs": [],
   "source": [
    "clean_df[\"Estimated ER Cost Without Medicaid\"] = (\n",
    "    clean_df[\"Total Medicaid Enrollees\"] * ER_VISITS_PER_PERSON * COST_PER_ER_VISIT\n",
    ")"
   ]
  },
  {
   "cell_type": "code",
   "execution_count": 24,
   "id": "32cf8907-6ac9-4f54-82f2-0ad4f7ca600e",
   "metadata": {},
   "outputs": [],
   "source": [
    "clean_df[\"Estimated ER Cost Without Medicaid\"] = clean_df[\"Estimated ER Cost Without Medicaid\"].astype(int)"
   ]
  },
  {
   "cell_type": "code",
   "execution_count": 26,
   "id": "773a4859-5f99-4a93-859a-a2bd94d8b3ad",
   "metadata": {},
   "outputs": [],
   "source": [
    "year_column = clean_df.pop(\"Year\")"
   ]
  },
  {
   "cell_type": "code",
   "execution_count": 27,
   "id": "5c1c78c9-87a7-4a0d-89e3-bceb3303ff58",
   "metadata": {},
   "outputs": [],
   "source": [
    "clean_df[\"Year\"] = year_column"
   ]
  },
  {
   "cell_type": "code",
   "execution_count": 28,
   "id": "5c33d969-32ec-424d-b652-5185daa8d645",
   "metadata": {},
   "outputs": [
    {
     "data": {
      "text/html": [
       "<div>\n",
       "<style scoped>\n",
       "    .dataframe tbody tr th:only-of-type {\n",
       "        vertical-align: middle;\n",
       "    }\n",
       "\n",
       "    .dataframe tbody tr th {\n",
       "        vertical-align: top;\n",
       "    }\n",
       "\n",
       "    .dataframe thead th {\n",
       "        text-align: right;\n",
       "    }\n",
       "</style>\n",
       "<table border=\"1\" class=\"dataframe\">\n",
       "  <thead>\n",
       "    <tr style=\"text-align: right;\">\n",
       "      <th></th>\n",
       "      <th>State</th>\n",
       "      <th>Total Medicaid Enrollees</th>\n",
       "      <th>Estimated ER Cost Without Medicaid</th>\n",
       "      <th>Year</th>\n",
       "    </tr>\n",
       "  </thead>\n",
       "  <tbody>\n",
       "    <tr>\n",
       "      <th>398</th>\n",
       "      <td>Wyoming</td>\n",
       "      <td>83379.0</td>\n",
       "      <td>60524816</td>\n",
       "      <td>2022</td>\n",
       "    </tr>\n",
       "    <tr>\n",
       "      <th>397</th>\n",
       "      <td>Wisconsin</td>\n",
       "      <td>1593772.0</td>\n",
       "      <td>1156919094</td>\n",
       "      <td>2022</td>\n",
       "    </tr>\n",
       "    <tr>\n",
       "      <th>396</th>\n",
       "      <td>West Virginia</td>\n",
       "      <td>660068.0</td>\n",
       "      <td>479143361</td>\n",
       "      <td>2022</td>\n",
       "    </tr>\n",
       "    <tr>\n",
       "      <th>395</th>\n",
       "      <td>Washington</td>\n",
       "      <td>2229539.0</td>\n",
       "      <td>1618422360</td>\n",
       "      <td>2022</td>\n",
       "    </tr>\n",
       "    <tr>\n",
       "      <th>394</th>\n",
       "      <td>Virginia</td>\n",
       "      <td>1978005.0</td>\n",
       "      <td>1435833829</td>\n",
       "      <td>2022</td>\n",
       "    </tr>\n",
       "  </tbody>\n",
       "</table>\n",
       "</div>"
      ],
      "text/plain": [
       "             State  Total Medicaid Enrollees  \\\n",
       "398        Wyoming                   83379.0   \n",
       "397      Wisconsin                 1593772.0   \n",
       "396  West Virginia                  660068.0   \n",
       "395     Washington                 2229539.0   \n",
       "394       Virginia                 1978005.0   \n",
       "\n",
       "     Estimated ER Cost Without Medicaid  Year  \n",
       "398                            60524816  2022  \n",
       "397                          1156919094  2022  \n",
       "396                           479143361  2022  \n",
       "395                          1618422360  2022  \n",
       "394                          1435833829  2022  "
      ]
     },
     "execution_count": 28,
     "metadata": {},
     "output_type": "execute_result"
    }
   ],
   "source": [
    "clean_df.head()"
   ]
  },
  {
   "cell_type": "code",
   "execution_count": 29,
   "id": "6d5b2490-62c9-4645-acc8-3d92506e4990",
   "metadata": {},
   "outputs": [],
   "source": [
    "clean_df.to_csv('medicaid-enrollees-er-burden.csv', index=False)"
   ]
  },
  {
   "cell_type": "code",
   "execution_count": null,
   "id": "d2d4ef74-444a-4cb3-a077-44ab2e1d75d9",
   "metadata": {},
   "outputs": [],
   "source": []
  }
 ],
 "metadata": {
  "kernelspec": {
   "display_name": "Python 3 (ipykernel)",
   "language": "python",
   "name": "python3"
  },
  "language_info": {
   "codemirror_mode": {
    "name": "ipython",
    "version": 3
   },
   "file_extension": ".py",
   "mimetype": "text/x-python",
   "name": "python",
   "nbconvert_exporter": "python",
   "pygments_lexer": "ipython3",
   "version": "3.11.11"
  }
 },
 "nbformat": 4,
 "nbformat_minor": 5
}
